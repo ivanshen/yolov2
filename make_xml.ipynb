{
 "cells": [
  {
   "cell_type": "code",
   "execution_count": 2,
   "metadata": {},
   "outputs": [],
   "source": [
    "from os import listdir\n",
    "from xml.etree import ElementTree as ET\n",
    "import cv2\n",
    "xml_str = \"\"\"<annotation verified=\"no\">\n",
    "  <folder>plate</folder>\n",
    "  <filename>{}</filename>\n",
    "  <path>{}{}</path>\n",
    "  <source>\n",
    "    <database>Unknown</database>\n",
    "  </source>\n",
    "  <size>\n",
    "    <width>{}</width>\n",
    "    <height>{}</height>\n",
    "    <depth>3</depth>\n",
    "  </size>\n",
    "  <segmented>0</segmented>\n",
    "  <object>\n",
    "    <name>plate</name>\n",
    "    <pose>Unspecified</pose>\n",
    "    <truncated>0</truncated>\n",
    "    <difficult>0</difficult>\n",
    "    <bndbox>\n",
    "      <xmin>{}</xmin>\n",
    "      <ymin>{}</ymin>\n",
    "      <xmax>{}</xmax>\n",
    "      <ymax>{}</ymax>\n",
    "    </bndbox>\n",
    "  </object>\n",
    "</annotation>\n",
    "\"\"\"\n",
    "\n",
    "for x in listdir('/notebooks/storage/lost+found/dataset/endtoend_labels/'):\n",
    "    if \".txt\" in x:\n",
    "        with open('/notebooks/storage/lost+found/dataset/endtoend_labels/' + x) as f:\n",
    "            line = f.readline().split(\" \")\n",
    "            xmlfilename = x.split(\".\")[0] + \".xml\"\n",
    "            img = cv2.imread('/notebooks/storage/lost+found/dataset/new_images/' + x.split(\".\")[0] + \".jpg\")\n",
    "            with open('/notebooks/storage/lost+found/dataset/xml/' + xmlfilename, \"wb\") as f:\n",
    "                tree = ET.XML(xml_str.format(x.split(\".\")[0], '/notebooks/storage/lost+found/dataset/new_images/', x.split(\".\")[0] + \".jpg\", img.shape[1], img.shape[0], line[1],line[2],str(int(line[1]) + int(line[3])),str(int(line[2]) + int(line[4]))))\n",
    "                f.write(ET.tostring(tree))"
   ]
  },
  {
   "cell_type": "code",
   "execution_count": null,
   "metadata": {},
   "outputs": [],
   "source": []
  }
 ],
 "metadata": {
  "kernelspec": {
   "display_name": "Python 3",
   "language": "python",
   "name": "python3"
  },
  "language_info": {
   "codemirror_mode": {
    "name": "ipython",
    "version": 3
   },
   "file_extension": ".py",
   "mimetype": "text/x-python",
   "name": "python",
   "nbconvert_exporter": "python",
   "pygments_lexer": "ipython3",
   "version": "3.6.8"
  }
 },
 "nbformat": 4,
 "nbformat_minor": 2
}
